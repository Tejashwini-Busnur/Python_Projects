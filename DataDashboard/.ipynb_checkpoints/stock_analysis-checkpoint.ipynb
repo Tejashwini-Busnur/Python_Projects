{
 "cells": [
  {
   "cell_type": "code",
   "execution_count": 40,
   "metadata": {},
   "outputs": [],
   "source": [
    "from pandas_datareader import wb\n",
    "import datetime as dt\n",
    "from bokeh.plotting import figure, show, output_file\n",
    "\n",
    "start = dt.datetime(2016,3,1)\n",
    "end = dt.datetime(2016,3,15)\n",
    "df= data.DataReader(name=\"GOOG\", data_source=\"yahoo\",start=start,end=end)\n"
   ]
  },
  {
   "cell_type": "code",
   "execution_count": null,
   "metadata": {
    "collapsed": true
   },
   "outputs": [],
   "source": [
    "p = figure(x_axis_type='datetime',width=1000,height=300)\n",
    "p.title.text = \"CandleStick Chart\"\n",
    "\n",
    "hours_12 = 12*60*60*1000\n",
    "\n",
    "p.rect(df.index[df.close>df.open],(df.open+df.close)/2,hours_12,abs(df.open-))\n"
   ]
  }
 ],
 "metadata": {
  "kernelspec": {
   "display_name": "Python 3",
   "language": "python",
   "name": "python3"
  },
  "language_info": {
   "codemirror_mode": {
    "name": "ipython",
    "version": 3
   },
   "file_extension": ".py",
   "mimetype": "text/x-python",
   "name": "python",
   "nbconvert_exporter": "python",
   "pygments_lexer": "ipython3",
   "version": "3.8.3"
  }
 },
 "nbformat": 4,
 "nbformat_minor": 4
}
